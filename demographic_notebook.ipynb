{
 "cells": [
  {
   "cell_type": "code",
   "execution_count": null,
   "id": "12bf63cd",
   "metadata": {},
   "outputs": [],
   "source": [
    "import matplotlib.pyplot as plt \n",
    "import numpy as np\n",
    "from csv import reader\n",
    "import pandas as pd "
   ]
  },
  {
   "cell_type": "code",
   "execution_count": null,
   "id": "4dd82885",
   "metadata": {},
   "outputs": [],
   "source": [
    "file = open('2023-Nov-ACOSUSData-Complete.csv', encoding=\"utf8\")\n",
    "csv_reader = reader(file)\n",
    "age = []\n",
    "row_index = 23\n",
    "#iterate through each row of the column for age\n",
    "for row in csv_reader:\n",
    "    age.append(row[row_index])\n",
    "cleaned_age = age[3:]\n",
    "new_age = []\n",
    "for num in cleaned_age:\n",
    "    newNum = int(num)\n",
    "    new_age.append(newNum)\n",
    "#Printing out all information\n",
    "print(new_age)\n",
    "print()\n",
    "print(\"The oldest: \", max(new_age))\n",
    "print(\"The youngest: \", min(new_age))\n",
    "print(\"Average age: \", sum(new_age)/len(new_age))\n",
    "pan = pd.Series(new_age)\n",
    "print(\"Standard Deviation: \", pan.std())\n",
    "#customization of the plot\n",
    "plt.hist(new_age, bins=10, color='black',edgecolor = 'white')\n",
    "plt.xlabel(\"Age\")\n",
    "plt.ylabel(\"Frequency\")\n",
    "plt.grid(True, axis ='y')"
   ]
  },
  {
   "cell_type": "code",
   "execution_count": null,
   "id": "5c4650e8",
   "metadata": {},
   "outputs": [],
   "source": [
    "#read file\n",
    "data = pd.read_csv('2023-Nov-ACOSUSData-Complete.csv')\n",
    "q = data[\"Q6\"].dropna()\n",
    "newQ = data[\"Q6\"][1:]\n",
    "#create variables to count occurances of each group\n",
    "count = {\"In state (permanent resident or citizen)\":0,\"Out of state (permanent resident or citizen)\":0\n",
    "         ,\"International\":0, \"Undocumented (DACA, etc.)\": 0}\n",
    "#iterating through the row with residential status\n",
    "for row in newQ:\n",
    "    if row == \"In state (permanent resident or citizen)\":\n",
    "        count[\"In state (permanent resident or citizen)\"] += 1\n",
    "    if row == \"Out of state (permanent resident or citizen)\":\n",
    "        count[\"Out of state (permanent resident or citizen)\"] += 1\n",
    "    if row == \"International\":\n",
    "        count[\"International\"] += 1\n",
    "    if row == \"Undocumented (DACA, etc.)\": \n",
    "        count[\"Undocumented (DACA, etc.)\"] += 1\n",
    "total = len(newQ)\n",
    "# Print percentages of each group\n",
    "for status, count in count.items():\n",
    "    percent = count / total * 100\n",
    "    print(f\"Percentage of {status} students: {percent:.2f}%\")\n"
   ]
  },
  {
   "cell_type": "code",
   "execution_count": null,
   "id": "28c990d5",
   "metadata": {},
   "outputs": [],
   "source": [
    "#read file\n",
    "data = pd.read_csv('2023-Nov-ACOSUSData-Complete.csv')\n",
    "q = data[\"Q9\"].dropna()\n",
    "newQ = data[\"Q9\"][1:]\n",
    "count = {\"Yes\":0, \"No\":0}\n",
    "for row in newQ:\n",
    "        if row == \"Yes\":\n",
    "            count[\"Yes\"] +=1\n",
    "        else:\n",
    "            count[\"No\"] += 1\n",
    "            \n",
    "total = len(newQ)\n",
    "sib_percent = count[\"Yes\"] / total * 100\n",
    "nosib_percent = count[\"No\"] / total * 100\n",
    "print(f\"Percentage of students with siblings in college: {sib_percent:.2f}%\")\n",
    "print(f\"Percentage of students without siblings in college: {nosib_percent:.2f}%\")"
   ]
  },
  {
   "cell_type": "code",
   "execution_count": null,
   "id": "13a26594",
   "metadata": {},
   "outputs": [],
   "source": [
    "data = pd.read_csv('2023-Nov-ACOSUSData-Complete.csv')\n",
    "q = data[\"Q5\"].dropna()\n",
    "newQ = data[\"Q5\"][1:]\n",
    "#counting occurances of each group\n",
    "count = {\"Asian\": 0,\"Hispanic\": 0,\"White\": 0, \"Black or African American\": 0, \"Mixed race\": 0}\n",
    "\n",
    "# Iterate over the rows to count\n",
    "for row in newQ:\n",
    "    #if statement for responses with multiple values\n",
    "    if len(row) > 35:\n",
    "        count[\"Mixed race\"] += 1\n",
    "    elif \"Asian\" == row:\n",
    "        count[\"Asian\"] += 1\n",
    "    elif \"Hispanic, Latino, Latina, or Latinx\" == row:\n",
    "        count[\"Hispanic\"] += 1\n",
    "    elif \"White\" == row:\n",
    "        count[\"White\"] += 1\n",
    "    elif \"Black or African American\" == row:\n",
    "        count[\"Black or African American\"] += 1\n",
    "    elif \"Other or Mixed (Please Specify)\" == row:\n",
    "        count[\"Mixed race\"] += 1\n",
    "\n",
    "total_students = len(newQ)\n",
    "\n",
    "# Print percentages of each group\n",
    "for race, count in count.items():\n",
    "    percent = count / total_students * 100\n",
    "    print(f\"Percentage of {race} students: {percent:.2f}%\")"
   ]
  },
  {
   "cell_type": "code",
   "execution_count": null,
   "id": "7fbca387",
   "metadata": {},
   "outputs": [],
   "source": []
  }
 ],
 "metadata": {
  "kernelspec": {
   "display_name": "Python 3 (ipykernel)",
   "language": "python",
   "name": "python3"
  },
  "language_info": {
   "codemirror_mode": {
    "name": "ipython",
    "version": 3
   },
   "file_extension": ".py",
   "mimetype": "text/x-python",
   "name": "python",
   "nbconvert_exporter": "python",
   "pygments_lexer": "ipython3",
   "version": "3.9.13"
  }
 },
 "nbformat": 4,
 "nbformat_minor": 5
}
