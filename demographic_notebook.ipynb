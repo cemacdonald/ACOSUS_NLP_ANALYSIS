{
 "cells": [
  {
   "cell_type": "code",
   "execution_count": 1,
   "id": "12bf63cd",
   "metadata": {},
   "outputs": [],
   "source": [
    "import matplotlib.pyplot as plt \n",
    "import numpy as np\n",
    "from csv import reader\n",
    "import pandas as pd \n",
    "data = pd.read_csv('2023-Nov-ACOSUSData-Complete.csv')\n",
    "file = open('2023-Nov-ACOSUSData-Complete.csv', encoding=\"utf8\")"
   ]
  },
  {
   "cell_type": "code",
   "execution_count": 2,
   "id": "4dd82885",
   "metadata": {},
   "outputs": [
    {
     "name": "stdout",
     "output_type": "stream",
     "text": [
      "[27, 25, 37, 32, 30, 25, 38, 25, 27, 22, 24, 24, 28, 22, 20, 24, 25, 31, 23, 20, 22, 23, 21, 28, 23, 18, 22, 26, 21, 25, 21, 24, 29, 21, 25, 31, 33, 23, 49, 28, 36, 31, 24, 21, 43, 34, 34, 26, 23, 24, 20, 23, 29, 23, 34, 35, 19, 33, 28, 24, 21, 23, 29, 22, 21, 21, 21, 22, 27, 22, 21, 20, 26, 22, 27, 47, 24, 18, 24, 21, 34, 27, 23, 20, 22, 20, 22, 20, 23, 20, 21, 34, 20, 43, 22, 37, 23, 22, 26, 23, 30, 21, 20, 21, 23, 21, 23, 20, 18, 31, 26, 28, 22, 23, 35, 19, 31, 24, 20, 19, 18, 36, 23, 18, 23, 23, 38, 21, 20, 22, 27, 18, 22, 18, 31, 51, 23, 31, 20, 24, 20, 19, 29, 37, 30, 31, 22, 21, 23, 27, 21, 24, 26, 31, 26, 21, 19, 23, 30, 22]\n",
      "\n",
      "the oldest:  51\n",
      "the youngest:  18\n",
      "average age:  25.44375\n",
      "standard deviation:  6.227093242562885\n"
     ]
    },
    {
     "data": {
      "image/png": "[encoded data removed]",
      "text/plain": [
       "<Figure size 640x480 with 1 Axes>"
      ]
     },
     "metadata": {},
     "output_type": "display_data"
    }
   ],
   "source": [
    "#not using pandas but csv reader\n",
    "csv_reader = reader(file)\n",
    "age = []\n",
    "row_index = 23\n",
    "for row in csv_reader:\n",
    "    age.append(row[row_index])\n",
    "cleaned_age = age[3:]\n",
    "new_age = []\n",
    "for num in cleaned_age:\n",
    "    newNum = int(num)\n",
    "    new_age.append(newNum)\n",
    "print(new_age)\n",
    "print()\n",
    "print(\"the oldest: \", max(new_age))\n",
    "print(\"the youngest: \", min(new_age))\n",
    "print(\"average age: \", sum(new_age)/len(new_age))\n",
    "pan = pd.Series(new_age)\n",
    "print(\"standard deviation: \", pan.std())\n",
    "\n",
    "plt.hist(new_age, bins=10, color='black',edgecolor = 'white')\n",
    "plt.xlabel(\"Age\")\n",
    "plt.ylabel(\"Frequency\")\n",
    "plt.grid(True, axis ='y')"
   ]
  },
  {
   "cell_type": "code",
   "execution_count": 7,
   "id": "5c4650e8",
   "metadata": {},
   "outputs": [
    {
     "name": "stdout",
     "output_type": "stream",
     "text": [
      "in state students:  0.8930817610062893\n",
      "\n",
      "out of state students:  0.018867924528301886\n",
      "\n",
      "international students:  0.07547169811320754\n",
      "\n",
      "undocumented students:  0.012578616352201259\n"
     ]
    }
   ],
   "source": [
    "file = open('2023-Nov-ACOSUSData-Complete.csv', encoding=\"utf8\")\n",
    "csv_reader = reader(file)\n",
    "instate = 0\n",
    "outstate = 0\n",
    "inter = 0 \n",
    "undoc = 0\n",
    "row_index = 29\n",
    "for row in csv_reader:\n",
    "    if row[row_index] == \"In state (permanent resident or citizen)\":\n",
    "        instate+=1\n",
    "    if row[row_index] == \"Out of state (permanent resident or citizen)\":\n",
    "        outstate+=1\n",
    "    if row[row_index] == \"International\":\n",
    "        inter+=1\n",
    "    if row[row_index] == \"Undocumented (DACA, etc.)\": \n",
    "        undoc+=1\n",
    "total = instate+outstate+inter+undoc\n",
    "print(\"in state students: \", instate/total)\n",
    "print()\n",
    "print(\"out of state students: \", outstate/total)\n",
    "print()\n",
    "print(\"international students: \", inter/total)\n",
    "print()\n",
    "print(\"undocumented students: \", undoc/total)\n"
   ]
  },
  {
   "cell_type": "code",
   "execution_count": 8,
   "id": "28c990d5",
   "metadata": {},
   "outputs": [
    {
     "name": "stdout",
     "output_type": "stream",
     "text": [
      "lower income:  0.3374233128834356\n",
      "\n",
      "higher income:  0.6625766871165644\n"
     ]
    }
   ],
   "source": [
    "file = open('2023-Nov-ACOSUSData-Complete.csv', encoding=\"utf8\")\n",
    "csv_reader = reader(file)\n",
    "row_index = 32\n",
    "LowerIndex = []\n",
    "HigherIndex = []\n",
    "index = 2\n",
    "for row in csv_reader:\n",
    "        index+=1\n",
    "        if row[row_index] == \"Yes\":\n",
    "            LowerIndex.append(index)\n",
    "        else:\n",
    "            HigherIndex.append(index)\n",
    "            \n",
    "L = len(LowerIndex)\n",
    "H = len(HigherIndex)\n",
    "total = L + H\n",
    "\n",
    "print(\"lower income: \", L/total)\n",
    "print()\n",
    "print(\"higher income: \", H/total)"
   ]
  },
  {
   "cell_type": "code",
   "execution_count": 5,
   "id": "13a26594",
   "metadata": {},
   "outputs": [
    {
     "name": "stdout",
     "output_type": "stream",
     "text": [
      "Percentage of Asian students: 21.74%\n",
      "Percentage of Hispanic students: 28.57%\n",
      "Percentage of White students: 20.50%\n",
      "Percentage of Black or African American students: 11.80%\n",
      "Percentage of Mixed race students: 13.66%\n",
      "Total percentage: 96.27%\n",
      "Total number of students: 161\n"
     ]
    }
   ],
   "source": [
    "q = data[\"Q5\"].dropna()\n",
    "newQ = data[\"Q5\"][1:]\n",
    "\n",
    "# Initialize a dictionary to store counts for each race-ethnicity group\n",
    "race_counts = {\"Asian\": 0,\"Hispanic\": 0,\"White\": 0, \"Black or African American\": 0, \"Mixed race\": 0}\n",
    "\n",
    "# Iterate over the rows to count each race-ethnicity group\n",
    "for row in newQ:\n",
    "    #if statement for responses with multiple values\n",
    "    if len(row) > 35:\n",
    "        race_counts[\"Mixed race\"] += 1\n",
    "    elif \"Asian\" == row:\n",
    "        race_counts[\"Asian\"] += 1\n",
    "    elif \"Hispanic, Latino, Latina, or Latinx\" == row:\n",
    "        race_counts[\"Hispanic\"] += 1\n",
    "    elif \"White\" == row:\n",
    "        race_counts[\"White\"] += 1\n",
    "    elif \"Black or African American\" == row:\n",
    "        race_counts[\"Black or African American\"] += 1\n",
    "    elif \"Other or Mixed (Please Specify)\" == row:\n",
    "        race_counts[\"Mixed race\"] += 1\n",
    "\n",
    "total_students = len(newQ)\n",
    "\n",
    "# Print percentages of each group\n",
    "for race, count in race_counts.items():\n",
    "    percentage = count / total_students * 100\n",
    "    print(f\"Percentage of {race} students: {percentage:.2f}%\")\n",
    "\n",
    "# Verify total percentage equals 100\n",
    "total_percentage = sum(race_counts.values()) / total_students * 100\n",
    "print(f\"Total percentage: {total_percentage:.2f}%\")\n",
    "\n",
    "# Print total number of students\n",
    "print(\"Total number of students:\", total_students)"
   ]
  },
  {
   "cell_type": "code",
   "execution_count": null,
   "id": "7fbca387",
   "metadata": {},
   "outputs": [],
   "source": []
  }
 ],
 "metadata": {
  "kernelspec": {
   "display_name": "Python 3 (ipykernel)",
   "language": "python",
   "name": "python3"
  },
  "language_info": {
   "codemirror_mode": {
    "name": "ipython",
    "version": 3
   },
   "file_extension": ".py",
   "mimetype": "text/x-python",
   "name": "python",
   "nbconvert_exporter": "python",
   "pygments_lexer": "ipython3",
   "version": "3.9.13"
  }
 },
 "nbformat": 4,
 "nbformat_minor": 5
}
